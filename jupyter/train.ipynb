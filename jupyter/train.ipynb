{
 "cells": [
  {
   "cell_type": "code",
   "execution_count": null,
   "id": "3572ccd3-baa8-40d1-8990-eaf9af919805",
   "metadata": {},
   "outputs": [],
   "source": [
    "# YOU DON'T HAVE TO TRAIN FROM NOTEBOOK SEE docs/training.md\n",
    "import sys\n",
    "\n",
    "# !pip install -q git+https://github.com/DinoraProject/dinora_chess.git\n",
    "!git clone https://github.com/Saegl/dinora.git\n",
    "!mv dinora dinora_repo\n",
    "print(\"Running on git ref:\")\n",
    "!cat dinora_repo/.git/refs/heads/main\n",
    "\n",
    "sys.path.append(\"dinora_repo/src\")\n",
    "!pip install -q wandb lightning chess cairosvg pylru"
   ]
  },
  {
   "cell_type": "code",
   "execution_count": null,
   "id": "3b99211e-6880-49a1-bb44-eed23f095294",
   "metadata": {},
   "outputs": [],
   "source": [
    "import torch\n",
    "\n",
    "print(\"Torch version\", torch.__version__)\n",
    "print(\"CUDA\", torch.cuda.is_available())\n",
    "print(\"PYTHON\", sys.version)\n",
    "\n",
    "if not torch.cuda.is_available():\n",
    "    raise Exception(\"Training tested only on cuda, you need environment with GPU\")"
   ]
  },
  {
   "cell_type": "code",
   "execution_count": null,
   "id": "9376ba64-cb8a-4eec-90cc-4441f292b592",
   "metadata": {},
   "outputs": [],
   "source": [
    "import os\n",
    "\n",
    "os.environ[\"WANDB_API_KEY\"] = \"\"  # Add your token here\n",
    "if not os.environ[\"WANDB_API_KEY\"]:\n",
    "    raise Exception(\"No wandb token found\")"
   ]
  },
  {
   "cell_type": "code",
   "execution_count": null,
   "id": "a1d9763a-9cde-4c2c-b324-a2943d226224",
   "metadata": {},
   "outputs": [],
   "source": [
    "from train.fit import Config, fit\n",
    "\n",
    "config = Config(\n",
    "    matmul_precision=\"medium\",\n",
    "    max_time={\"hours\": 11, \"minutes\": 30},\n",
    "    max_epochs=-1,\n",
    "    dataset_label=\"saegl/dinora-chess/traindocs:v0\",\n",
    "    z_weight=0.0,\n",
    "    q_weight=1.0,\n",
    "    tune_batch=True,\n",
    "    batch_size=2048,\n",
    "    tune_learning_rate=True,\n",
    "    learning_rate=0.00001445439770745928,  # will be overwritten if tune_learning_rate = True\n",
    "    lr_scheduler_gamma=1.0,\n",
    "    lr_scheduler_freq=15_000,\n",
    "    enable_checkpointing=False,\n",
    "    checkpoint_train_time_interval={\"minutes\": 30},\n",
    "    enable_sample_game_generator=True,\n",
    "    enable_boards_evaluator=True,\n",
    "    enable_validation_checkpointer=True,\n",
    "    enable_cploss=True,\n",
    "    cploss_label=\"saegl/dinora-chess/elite_cploss:latest\",\n",
    "    cploss_batch_size=1024,\n",
    "    cploss_positions=3000,\n",
    "    log_every_n_steps=100,\n",
    "    val_check_interval=0.25,\n",
    "    limit_train_batches=None,\n",
    "    limit_val_batches=None,\n",
    "    limit_test_batches=None,\n",
    "    model_type=\"alphanet\",\n",
    "    res_channels=256,\n",
    "    res_blocks=19,\n",
    "    policy_channels=64,\n",
    "    value_channels=8,\n",
    "    value_lin_channels=256,\n",
    ")\n",
    "\n",
    "fit(config)"
   ]
  }
 ],
 "metadata": {
  "kernelspec": {
   "display_name": "Python 3 (ipykernel)",
   "language": "python",
   "name": "python3"
  },
  "language_info": {
   "codemirror_mode": {
    "name": "ipython",
    "version": 3
   },
   "file_extension": ".py",
   "mimetype": "text/x-python",
   "name": "python",
   "nbconvert_exporter": "python",
   "pygments_lexer": "ipython3",
   "version": "3.12.5"
  }
 },
 "nbformat": 4,
 "nbformat_minor": 5
}
